{
 "cells": [
  {
   "cell_type": "code",
   "execution_count": 2,
   "id": "e73336bb",
   "metadata": {},
   "outputs": [],
   "source": [
    "# To ignore the warnings\n",
    "\n",
    "import warnings\n",
    "warnings.filterwarnings(\"ignore\")"
   ]
  },
  {
   "cell_type": "code",
   "execution_count": 3,
   "id": "d2835026",
   "metadata": {},
   "outputs": [],
   "source": [
    "# Import Libraries\n",
    "\n",
    "import numpy as np\n",
    "import pandas as pd\n",
    "import matplotlib.pyplot as plt\n",
    "import glob\n",
    "import os\n",
    "import shutil\n",
    "import math\n",
    "import imutils\n",
    "import cv2"
   ]
  },
  {
   "cell_type": "code",
   "execution_count": 38,
   "id": "abe94f51",
   "metadata": {},
   "outputs": [
    {
     "data": {
      "text/plain": [
       "{'Brain Tumor': 155, 'Healthy': 98}"
      ]
     },
     "execution_count": 38,
     "metadata": {},
     "output_type": "execute_result"
    }
   ],
   "source": [
    "# Count the number of images in the respective classes \n",
    "\n",
    "ROOT_DIR = \"D:\\Jupyter\\Projects\\Brain Tumor Detector\\dataset\"\n",
    "\n",
    "num_of_images = {}\n",
    "\n",
    "for dir in os.listdir(ROOT_DIR):\n",
    "  num_of_images[dir] = len(os.listdir(os.path.join(ROOT_DIR, dir)))\n",
    "\n",
    "num_of_images"
   ]
  },
  {
   "cell_type": "markdown",
   "id": "7c769ffd",
   "metadata": {},
   "source": [
    "# We will split our data such that we have\n",
    "\n",
    "* 70% for Train Data \n",
    "* 15% for Validation \n",
    "* 15% for Testing "
   ]
  },
  {
   "cell_type": "code",
   "execution_count": 39,
   "id": "d3a24afa",
   "metadata": {},
   "outputs": [
    {
     "name": "stdout",
     "output_type": "stream",
     "text": [
      "Train Folder already exists\n"
     ]
    }
   ],
   "source": [
    "# Create a Training folder \n",
    "\n",
    "if not os.path.exists(\"./train\"):\n",
    "  os.mkdir(\"./train\")\n",
    "\n",
    "  for dir in os.listdir(ROOT_DIR):\n",
    "    os.makedirs(\"./train/\"+dir)\n",
    "    for img in np.random.choice(a=os.listdir(os.path.join(ROOT_DIR, dir) ) , \n",
    "                                size= (math.floor(70/100*num_of_images[dir])-5) , replace=False ):\n",
    "      \n",
    "      O = os.path.join(ROOT_DIR,dir,img)\n",
    "      D = os.path.join('./train', dir)\n",
    "      shutil.copy(O,D)\n",
    "      #os.remove(O)\n",
    "else:\n",
    "  print(\"Train Folder already exists\")"
   ]
  },
  {
   "cell_type": "code",
   "execution_count": 40,
   "id": "611f4c5b",
   "metadata": {},
   "outputs": [
    {
     "name": "stdout",
     "output_type": "stream",
     "text": [
      "Validation Folder already exists\n"
     ]
    }
   ],
   "source": [
    "# Create a Validation folder \n",
    "\n",
    "if not os.path.exists(\"./val\"):\n",
    "  os.mkdir(\"./val\")\n",
    "\n",
    "  for dir in os.listdir(ROOT_DIR):\n",
    "    os.makedirs(\"./val/\"+dir)\n",
    "    for img in np.random.choice(a=os.listdir(os.path.join(ROOT_DIR, dir) ) , \n",
    "                                size= (math.floor(15/100*num_of_images[dir])-5) , replace=False ):\n",
    "      \n",
    "      O = os.path.join(ROOT_DIR,dir,img)\n",
    "      D = os.path.join('./val', dir)\n",
    "      shutil.copy(O,D)\n",
    "      #os.remove(O)\n",
    "else:\n",
    "  print(\"Validation Folder already exists\")"
   ]
  },
  {
   "cell_type": "code",
   "execution_count": 41,
   "id": "e45733ea",
   "metadata": {},
   "outputs": [
    {
     "name": "stdout",
     "output_type": "stream",
     "text": [
      "Test Folder already exists\n"
     ]
    }
   ],
   "source": [
    "# Create a Test folder \n",
    "\n",
    "if not os.path.exists(\"./test\"):\n",
    "  os.mkdir(\"./test\")\n",
    "\n",
    "  for dir in os.listdir(ROOT_DIR):\n",
    "    os.makedirs(\"./test/\"+dir)\n",
    "    for img in np.random.choice(a=os.listdir(os.path.join(ROOT_DIR, dir) ) , \n",
    "                                size= (math.floor(15/100*num_of_images[dir])-5) , replace=False ):\n",
    "      \n",
    "      O = os.path.join(ROOT_DIR,dir,img)\n",
    "      D = os.path.join('./test', dir)\n",
    "      shutil.copy(O,D)\n",
    "      #os.remove(O)\n",
    "else:\n",
    "  print(\"Test Folder already exists\")"
   ]
  },
  {
   "cell_type": "code",
   "execution_count": 7,
   "id": "60d8e3c1",
   "metadata": {},
   "outputs": [],
   "source": [
    "# Import Libraries required to build our model\n",
    "\n",
    "import tensorflow as tf\n",
    "from tensorflow import keras\n",
    "from tensorflow.keras.layers import Dense,Conv2D, Flatten, MaxPool2D, Dropout, BatchNormalization, MaxPooling2D, GlobalAvgPool2D\n",
    "from tensorflow.keras.models import Sequential\n",
    "from tensorflow.keras.preprocessing import image"
   ]
  },
  {
   "cell_type": "code",
   "execution_count": 43,
   "id": "7b152a6e",
   "metadata": {},
   "outputs": [],
   "source": [
    "# Build CNN Model\n",
    "\n",
    "model = Sequential()\n",
    "model.add(Conv2D(filters = 16, kernel_size = (3,3), activation = 'relu', input_shape = (224,224,3)))\n",
    "\n",
    "model.add(Conv2D(filters=32, kernel_size=(3,3), activation='relu' ))\n",
    "model.add(MaxPool2D(pool_size=(2,2)))\n",
    "\n",
    "\n",
    "model.add(Conv2D(filters=64, kernel_size=(3,3), activation='relu' ))\n",
    "model.add(MaxPool2D(pool_size=(2,2)))\n",
    "\n",
    "\n",
    "model.add(Conv2D(filters=128, kernel_size=(3,3), activation='relu' ))\n",
    "model.add(MaxPool2D(pool_size=(2,2)))\n",
    "\n",
    "model.add(Dropout(rate=0.25))\n",
    "\n",
    "model.add(Flatten())\n",
    "model.add(Dense(units=64, activation='relu'))\n",
    "model.add(Dropout(rate=0.25))\n",
    "model.add(Dense(units=1, activation='sigmoid'))"
   ]
  },
  {
   "cell_type": "code",
   "execution_count": 44,
   "id": "ef4dae1d",
   "metadata": {},
   "outputs": [],
   "source": [
    "# Compile the model\n",
    "\n",
    "model.compile(loss= 'binary_crossentropy', optimizer='adam', metrics=['accuracy'] )"
   ]
  },
  {
   "cell_type": "code",
   "execution_count": 45,
   "id": "7932c482",
   "metadata": {},
   "outputs": [
    {
     "name": "stdout",
     "output_type": "stream",
     "text": [
      "Model: \"sequential_3\"\n",
      "_________________________________________________________________\n",
      "Layer (type)                 Output Shape              Param #   \n",
      "=================================================================\n",
      "conv2d_9 (Conv2D)            (None, 222, 222, 16)      448       \n",
      "_________________________________________________________________\n",
      "conv2d_10 (Conv2D)           (None, 220, 220, 32)      4640      \n",
      "_________________________________________________________________\n",
      "max_pooling2d_6 (MaxPooling2 (None, 110, 110, 32)      0         \n",
      "_________________________________________________________________\n",
      "conv2d_11 (Conv2D)           (None, 108, 108, 64)      18496     \n",
      "_________________________________________________________________\n",
      "max_pooling2d_7 (MaxPooling2 (None, 54, 54, 64)        0         \n",
      "_________________________________________________________________\n",
      "conv2d_12 (Conv2D)           (None, 52, 52, 128)       73856     \n",
      "_________________________________________________________________\n",
      "max_pooling2d_8 (MaxPooling2 (None, 26, 26, 128)       0         \n",
      "_________________________________________________________________\n",
      "dropout_4 (Dropout)          (None, 26, 26, 128)       0         \n",
      "_________________________________________________________________\n",
      "flatten_2 (Flatten)          (None, 86528)             0         \n",
      "_________________________________________________________________\n",
      "dense_4 (Dense)              (None, 64)                5537856   \n",
      "_________________________________________________________________\n",
      "dropout_5 (Dropout)          (None, 64)                0         \n",
      "_________________________________________________________________\n",
      "dense_5 (Dense)              (None, 1)                 65        \n",
      "=================================================================\n",
      "Total params: 5,635,361\n",
      "Trainable params: 5,635,361\n",
      "Non-trainable params: 0\n",
      "_________________________________________________________________\n"
     ]
    }
   ],
   "source": [
    "model.summary()"
   ]
  },
  {
   "cell_type": "code",
   "execution_count": 46,
   "id": "7d82aaeb",
   "metadata": {},
   "outputs": [],
   "source": [
    "# Perform Data Augmentation\n",
    "\n",
    "train_datagen = image.ImageDataGenerator(\n",
    "     zoom_range = 0.2, shear_range = 0.2 , rescale = 1./255 , horizontal_flip=True\n",
    ")\n",
    "\n",
    "val_datagen = image.ImageDataGenerator(rescale = 1./255)\n",
    "\n",
    "test_datagen = image.ImageDataGenerator(rescale = 1./255)"
   ]
  },
  {
   "cell_type": "code",
   "execution_count": 47,
   "id": "e2db2357",
   "metadata": {},
   "outputs": [
    {
     "name": "stdout",
     "output_type": "stream",
     "text": [
      "Found 166 images belonging to 2 classes.\n"
     ]
    }
   ],
   "source": [
    "train_data = train_datagen.flow_from_directory(directory= \"D:/Jupyter/Projects/Brain Tumor Detector/train\", target_size=(224,224), batch_size=32, \n",
    "                                               class_mode = 'binary')"
   ]
  },
  {
   "cell_type": "code",
   "execution_count": 48,
   "id": "36cba4cb",
   "metadata": {},
   "outputs": [
    {
     "data": {
      "text/plain": [
       "{'Brain Tumor': 0, 'Healthy': 1}"
      ]
     },
     "execution_count": 48,
     "metadata": {},
     "output_type": "execute_result"
    }
   ],
   "source": [
    "train_data.class_indices"
   ]
  },
  {
   "cell_type": "code",
   "execution_count": 49,
   "id": "50aad133",
   "metadata": {},
   "outputs": [
    {
     "name": "stdout",
     "output_type": "stream",
     "text": [
      "Found 27 images belonging to 2 classes.\n"
     ]
    }
   ],
   "source": [
    "val_data = val_datagen.flow_from_directory(directory= \"D:/Jupyter/Projects/Brain Tumor Detector/val\", target_size=(224,224), batch_size=32,\n",
    "                                  class_mode = 'binary')"
   ]
  },
  {
   "cell_type": "code",
   "execution_count": 50,
   "id": "c514f8e7",
   "metadata": {},
   "outputs": [
    {
     "name": "stdout",
     "output_type": "stream",
     "text": [
      "Found 27 images belonging to 2 classes.\n"
     ]
    }
   ],
   "source": [
    "test_data = test_datagen.flow_from_directory(directory= \"D:/Jupyter/Projects/Brain Tumor Detector/test\", target_size=(224,224), batch_size=32,\n",
    "                                  class_mode = 'binary')"
   ]
  },
  {
   "cell_type": "code",
   "execution_count": 51,
   "id": "9b2630f5",
   "metadata": {},
   "outputs": [],
   "source": [
    "# Early stopping and Model check point \n",
    "\n",
    "from tensorflow.keras.callbacks import ModelCheckpoint, EarlyStopping\n",
    "\n",
    "# early stopping\n",
    "es = EarlyStopping(monitor='val_accuracy', min_delta= 0.01 , patience= 5, verbose= 1, mode='auto')\n",
    "\n",
    "# model check point\n",
    "mc = ModelCheckpoint(filepath=\"best_model.h5\", monitor= 'val_accuracy', verbose= 1, save_best_only= True, mode = 'auto')\n",
    "\n",
    "# puting call back in a list \n",
    "call_back = [es, mc]"
   ]
  },
  {
   "cell_type": "code",
   "execution_count": 52,
   "id": "a90d1175",
   "metadata": {},
   "outputs": [
    {
     "name": "stdout",
     "output_type": "stream",
     "text": [
      "Epoch 1/10\n",
      "6/6 [==============================] - ETA: 0s - loss: 1.0953 - accuracy: 0.4699WARNING:tensorflow:Your input ran out of data; interrupting training. Make sure that your dataset or generator can generate at least `steps_per_epoch * epochs` batches (in this case, 8 batches). You may need to use the repeat() function when building your dataset.\n",
      "\n",
      "Epoch 00001: val_accuracy improved from -inf to 0.85185, saving model to best_model.h5\n",
      "6/6 [==============================] - 10s 2s/step - loss: 1.0953 - accuracy: 0.4699 - val_loss: 0.6614 - val_accuracy: 0.8519\n",
      "Epoch 2/10\n",
      "6/6 [==============================] - ETA: 0s - loss: 0.6253 - accuracy: 0.6928WARNING:tensorflow:Your input ran out of data; interrupting training. Make sure that your dataset or generator can generate at least `steps_per_epoch * epochs` batches (in this case, 8 batches). You may need to use the repeat() function when building your dataset.\n",
      "\n",
      "Epoch 00002: val_accuracy did not improve from 0.85185\n",
      "6/6 [==============================] - 9s 2s/step - loss: 0.6253 - accuracy: 0.6928 - val_loss: 0.5302 - val_accuracy: 0.6667\n",
      "Epoch 3/10\n",
      "6/6 [==============================] - ETA: 0s - loss: 0.5646 - accuracy: 0.7289WARNING:tensorflow:Your input ran out of data; interrupting training. Make sure that your dataset or generator can generate at least `steps_per_epoch * epochs` batches (in this case, 8 batches). You may need to use the repeat() function when building your dataset.\n",
      "\n",
      "Epoch 00003: val_accuracy did not improve from 0.85185\n",
      "6/6 [==============================] - 12s 2s/step - loss: 0.5646 - accuracy: 0.7289 - val_loss: 0.4385 - val_accuracy: 0.8148\n",
      "Epoch 4/10\n",
      "6/6 [==============================] - ETA: 0s - loss: 0.5563 - accuracy: 0.7229WARNING:tensorflow:Your input ran out of data; interrupting training. Make sure that your dataset or generator can generate at least `steps_per_epoch * epochs` batches (in this case, 8 batches). You may need to use the repeat() function when building your dataset.\n",
      "\n",
      "Epoch 00004: val_accuracy did not improve from 0.85185\n",
      "6/6 [==============================] - 10s 2s/step - loss: 0.5563 - accuracy: 0.7229 - val_loss: 0.4525 - val_accuracy: 0.8519\n",
      "Epoch 5/10\n",
      "6/6 [==============================] - ETA: 0s - loss: 0.5817 - accuracy: 0.7289WARNING:tensorflow:Your input ran out of data; interrupting training. Make sure that your dataset or generator can generate at least `steps_per_epoch * epochs` batches (in this case, 8 batches). You may need to use the repeat() function when building your dataset.\n",
      "\n",
      "Epoch 00005: val_accuracy did not improve from 0.85185\n",
      "6/6 [==============================] - 10s 2s/step - loss: 0.5817 - accuracy: 0.7289 - val_loss: 0.4821 - val_accuracy: 0.7778\n",
      "Epoch 6/10\n",
      "6/6 [==============================] - ETA: 0s - loss: 0.5359 - accuracy: 0.7771WARNING:tensorflow:Your input ran out of data; interrupting training. Make sure that your dataset or generator can generate at least `steps_per_epoch * epochs` batches (in this case, 8 batches). You may need to use the repeat() function when building your dataset.\n",
      "\n",
      "Epoch 00006: val_accuracy did not improve from 0.85185\n",
      "6/6 [==============================] - 10s 2s/step - loss: 0.5359 - accuracy: 0.7771 - val_loss: 0.4901 - val_accuracy: 0.8148\n",
      "Epoch 00006: early stopping\n"
     ]
    }
   ],
   "source": [
    "training = model.fit(train_data , \n",
    "                              steps_per_epoch= 6 , \n",
    "                              epochs= 10 , verbose= 1, \n",
    "                              validation_data= val_data , \n",
    "                              validation_steps= 8,\n",
    "                              callbacks = call_back)"
   ]
  },
  {
   "cell_type": "code",
   "execution_count": 4,
   "id": "3faa8c89",
   "metadata": {},
   "outputs": [],
   "source": [
    "# Loading the best fit model \n",
    "from tensorflow.keras.models import load_model\n",
    "\n",
    "model = load_model(\"best_model.h5\")"
   ]
  },
  {
   "cell_type": "code",
   "execution_count": 59,
   "id": "d71a0ba6",
   "metadata": {},
   "outputs": [
    {
     "name": "stdout",
     "output_type": "stream",
     "text": [
      "dict_keys(['loss', 'accuracy', 'val_loss', 'val_accuracy'])\n"
     ]
    },
    {
     "data": {
      "image/png": "[encoded data removed]",
      "text/plain": [
       "<Figure size 432x288 with 1 Axes>"
      ]
     },
     "metadata": {
      "needs_background": "light"
     },
     "output_type": "display_data"
    },
    {
     "data": {
      "image/png": "[encoded data removed]",
      "text/plain": [
       "<Figure size 432x288 with 1 Axes>"
      ]
     },
     "metadata": {
      "needs_background": "light"
     },
     "output_type": "display_data"
    }
   ],
   "source": [
    "# Plot accuracy and loss\n",
    "\n",
    "import matplotlib.pyplot as plt\n",
    "%matplotlib inline\n",
    "# list all data in training\n",
    "print(training.history.keys())\n",
    "# summarize training for accuracy\n",
    "plt.plot(training.history['accuracy'])\n",
    "plt.plot(training.history['val_accuracy'])\n",
    "plt.title('model accuracy')\n",
    "plt.ylabel('accuracy')\n",
    "plt.xlabel('epoch')\n",
    "plt.legend(['train', 'test'], loc='upper left')\n",
    "plt.show()\n",
    "# summarize traning for loss\n",
    "plt.plot(training.history['loss'])\n",
    "plt.plot(training.history['val_loss'])\n",
    "plt.title('model loss')\n",
    "plt.ylabel('loss')\n",
    "plt.xlabel('epoch')\n",
    "plt.legend(['train', 'test'], loc='upper left')\n",
    "plt.show()"
   ]
  },
  {
   "cell_type": "code",
   "execution_count": 5,
   "id": "8f1913cd",
   "metadata": {},
   "outputs": [
    {
     "ename": "NameError",
     "evalue": "name 'test_data' is not defined",
     "output_type": "error",
     "traceback": [
      "\u001b[1;31m---------------------------------------------------------------------------\u001b[0m",
      "\u001b[1;31mNameError\u001b[0m                                 Traceback (most recent call last)",
      "\u001b[1;32m<ipython-input-5-f461bf5cc2ff>\u001b[0m in \u001b[0;36m<module>\u001b[1;34m\u001b[0m\n\u001b[0;32m      1\u001b[0m \u001b[1;31m# checking out the accuracy of our model\u001b[0m\u001b[1;33m\u001b[0m\u001b[1;33m\u001b[0m\u001b[1;33m\u001b[0m\u001b[0m\n\u001b[0;32m      2\u001b[0m \u001b[1;33m\u001b[0m\u001b[0m\n\u001b[1;32m----> 3\u001b[1;33m \u001b[0macc\u001b[0m \u001b[1;33m=\u001b[0m \u001b[0mmodel\u001b[0m\u001b[1;33m.\u001b[0m\u001b[0mevaluate\u001b[0m\u001b[1;33m(\u001b[0m\u001b[0mtest_data\u001b[0m\u001b[1;33m)\u001b[0m\u001b[1;33m[\u001b[0m\u001b[1;36m1\u001b[0m\u001b[1;33m]\u001b[0m\u001b[1;33m\u001b[0m\u001b[1;33m\u001b[0m\u001b[0m\n\u001b[0m\u001b[0;32m      4\u001b[0m \u001b[1;33m\u001b[0m\u001b[0m\n\u001b[0;32m      5\u001b[0m \u001b[0mprint\u001b[0m\u001b[1;33m(\u001b[0m\u001b[1;34mf\"The accuracy of your model is = {acc*100} %\"\u001b[0m\u001b[1;33m)\u001b[0m\u001b[1;33m\u001b[0m\u001b[1;33m\u001b[0m\u001b[0m\n",
      "\u001b[1;31mNameError\u001b[0m: name 'test_data' is not defined"
     ]
    }
   ],
   "source": [
    "# checking out the accuracy of our model \n",
    "\n",
    "acc = model.evaluate(test_data)[1]\n",
    "\n",
    "print(f\"The accuracy of your model is = {acc*100} %\")"
   ]
  },
  {
   "cell_type": "code",
   "execution_count": 11,
   "id": "39ca71e3",
   "metadata": {},
   "outputs": [
    {
     "name": "stdout",
     "output_type": "stream",
     "text": [
      "The MRI image is of Healthy brain\n"
     ]
    },
    {
     "data": {
      "image/png": "[encoded data removed]",
      "text/plain": [
       "<Figure size 432x288 with 1 Axes>"
      ]
     },
     "metadata": {
      "needs_background": "light"
     },
     "output_type": "display_data"
    }
   ],
   "source": [
    "# path for the image to see if it predicts correct class\n",
    "\n",
    "path = \"D:/Jupyter/Projects/Brain Tumor Detector/Images to test/no 8.jpg\"\n",
    "img = image.load_img(path, target_size=(224,224))\n",
    "\n",
    "i = image.img_to_array(img)/255\n",
    "input_arr = np.array([i])\n",
    "input_arr.shape\n",
    "\n",
    "pred = model.predict_classes(input_arr)[0][0] \n",
    "\n",
    "\n",
    "\n",
    "if pred == 0:\n",
    "  print(\"The MRI image is of BRAIN TUMOR\")\n",
    "else:\n",
    "  print(\"The MRI image is of Healthy brain\")\n",
    "\n",
    "import matplotlib.image as mpimg\n",
    "img=mpimg.imread(path)\n",
    "imgplot = plt.imshow(img)\n",
    "plt.show()"
   ]
  },
  {
   "cell_type": "code",
   "execution_count": null,
   "id": "377ad449",
   "metadata": {},
   "outputs": [],
   "source": []
  }
 ],
 "metadata": {
  "kernelspec": {
   "display_name": "Python 3",
   "language": "python",
   "name": "python3"
  },
  "language_info": {
   "codemirror_mode": {
    "name": "ipython",
    "version": 3
   },
   "file_extension": ".py",
   "mimetype": "text/x-python",
   "name": "python",
   "nbconvert_exporter": "python",
   "pygments_lexer": "ipython3",
   "version": "3.8.8"
  }
 },
 "nbformat": 4,
 "nbformat_minor": 5
}
